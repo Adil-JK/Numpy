{
 "cells": [
  {
   "cell_type": "code",
   "execution_count": 1,
   "metadata": {},
   "outputs": [],
   "source": [
    "import numpy as np"
   ]
  },
  {
   "cell_type": "code",
   "execution_count": 2,
   "metadata": {},
   "outputs": [],
   "source": [
    "name = np.array(['Adil', 'Ali', 'Erdum', 'Ahmed'])"
   ]
  },
  {
   "cell_type": "code",
   "execution_count": 3,
   "metadata": {},
   "outputs": [
    {
     "name": "stdout",
     "output_type": "stream",
     "text": [
      "['Adil' 'Ali' 'Erdum' 'Ahmed']\n"
     ]
    }
   ],
   "source": [
    "print(name)"
   ]
  },
  {
   "cell_type": "code",
   "execution_count": 4,
   "metadata": {},
   "outputs": [
    {
     "name": "stdout",
     "output_type": "stream",
     "text": [
      "<U5\n"
     ]
    }
   ],
   "source": [
    "print(name.dtype)"
   ]
  },
  {
   "cell_type": "code",
   "execution_count": 5,
   "metadata": {},
   "outputs": [],
   "source": [
    "strg = np.array([\"2\",\"3\",\"5\",\"8\"])"
   ]
  },
  {
   "cell_type": "code",
   "execution_count": 6,
   "metadata": {},
   "outputs": [
    {
     "name": "stdout",
     "output_type": "stream",
     "text": [
      "['2' '3' '5' '8']\n"
     ]
    }
   ],
   "source": [
    "print(strg)"
   ]
  },
  {
   "cell_type": "code",
   "execution_count": 7,
   "metadata": {},
   "outputs": [
    {
     "name": "stdout",
     "output_type": "stream",
     "text": [
      "<U1\n"
     ]
    }
   ],
   "source": [
    "print(strg.dtype)"
   ]
  },
  {
   "cell_type": "code",
   "execution_count": 8,
   "metadata": {},
   "outputs": [
    {
     "name": "stdout",
     "output_type": "stream",
     "text": [
      "[1 2 3 4]\n"
     ]
    }
   ],
   "source": [
    "num = np.array([1,2,3,4])\n",
    "print(num)"
   ]
  },
  {
   "cell_type": "code",
   "execution_count": 9,
   "metadata": {},
   "outputs": [],
   "source": [
    "num = np.array([1,2,3,4], dtype='i')"
   ]
  },
  {
   "cell_type": "code",
   "execution_count": 10,
   "metadata": {},
   "outputs": [
    {
     "name": "stdout",
     "output_type": "stream",
     "text": [
      "int32\n"
     ]
    }
   ],
   "source": [
    "print(num.dtype)"
   ]
  },
  {
   "cell_type": "code",
   "execution_count": 11,
   "metadata": {},
   "outputs": [
    {
     "name": "stdout",
     "output_type": "stream",
     "text": [
      "float32\n"
     ]
    }
   ],
   "source": [
    "flt = np.array([1.2,2.6,3.5,6.8], dtype='f')\n",
    "print(flt.dtype)"
   ]
  },
  {
   "cell_type": "code",
   "execution_count": 12,
   "metadata": {},
   "outputs": [],
   "source": [
    "# Transforming float data type into interger data type"
   ]
  },
  {
   "cell_type": "code",
   "execution_count": 13,
   "metadata": {},
   "outputs": [
    {
     "name": "stdout",
     "output_type": "stream",
     "text": [
      "int32\n"
     ]
    }
   ],
   "source": [
    "flt = np.array([1.2,2.6,3.5,6.8,0,-3], dtype='i')\n",
    "print(flt.dtype)"
   ]
  },
  {
   "cell_type": "code",
   "execution_count": 14,
   "metadata": {},
   "outputs": [
    {
     "name": "stdout",
     "output_type": "stream",
     "text": [
      "[ 1  2  3  6  0 -3]\n"
     ]
    }
   ],
   "source": [
    "print(flt)"
   ]
  },
  {
   "cell_type": "code",
   "execution_count": 31,
   "metadata": {},
   "outputs": [
    {
     "name": "stdout",
     "output_type": "stream",
     "text": [
      "[ 1.  2.  3.  6.  0. -3.]\n"
     ]
    }
   ],
   "source": [
    "flt_1 = flt.astype(float)\n",
    "print(flt_1)"
   ]
  },
  {
   "cell_type": "code",
   "execution_count": 32,
   "metadata": {},
   "outputs": [
    {
     "name": "stdout",
     "output_type": "stream",
     "text": [
      "[ True  True  True  True False  True]\n"
     ]
    }
   ],
   "source": [
    "boolean = flt_1.astype(bool)\n",
    "print(boolean)"
   ]
  },
  {
   "cell_type": "code",
   "execution_count": 33,
   "metadata": {},
   "outputs": [],
   "source": [
    "num = np.array([1,2,3,4], dtype='i')"
   ]
  },
  {
   "cell_type": "code",
   "execution_count": 34,
   "metadata": {},
   "outputs": [
    {
     "name": "stdout",
     "output_type": "stream",
     "text": [
      "[1 2 3 4]\n"
     ]
    }
   ],
   "source": [
    "v = num.view()\n",
    "print(v)"
   ]
  },
  {
   "cell_type": "code",
   "execution_count": 35,
   "metadata": {},
   "outputs": [
    {
     "name": "stdout",
     "output_type": "stream",
     "text": [
      "[10  2  3  4]\n"
     ]
    }
   ],
   "source": [
    "v[0] = 10\n",
    "print(num)"
   ]
  },
  {
   "cell_type": "code",
   "execution_count": 36,
   "metadata": {},
   "outputs": [
    {
     "name": "stdout",
     "output_type": "stream",
     "text": [
      "[10  2  3  4]\n",
      "[10  2  3  4]\n"
     ]
    }
   ],
   "source": [
    "c = v.copy()\n",
    "print(v)\n",
    "print(num)"
   ]
  },
  {
   "cell_type": "code",
   "execution_count": 37,
   "metadata": {},
   "outputs": [
    {
     "name": "stdout",
     "output_type": "stream",
     "text": [
      "None\n",
      "[10  2  3  4]\n",
      "None\n"
     ]
    }
   ],
   "source": [
    "print(c.base)\n",
    "print(v.base)\n",
    "print(num.base)"
   ]
  },
  {
   "cell_type": "code",
   "execution_count": null,
   "metadata": {},
   "outputs": [],
   "source": []
  },
  {
   "cell_type": "code",
   "execution_count": 38,
   "metadata": {},
   "outputs": [],
   "source": [
    "arr = np.array([[[1,2,3],[2,3,4],[9,6,7]],[[4,5,6],[7,8,9],[9,6,7]],[[8,6,7],[6,5,9],[3,2,8]]])"
   ]
  },
  {
   "cell_type": "code",
   "execution_count": 39,
   "metadata": {},
   "outputs": [
    {
     "name": "stdout",
     "output_type": "stream",
     "text": [
      "(3, 3, 3)\n"
     ]
    }
   ],
   "source": [
    "print(arr.shape)"
   ]
  },
  {
   "cell_type": "code",
   "execution_count": 40,
   "metadata": {},
   "outputs": [
    {
     "name": "stdout",
     "output_type": "stream",
     "text": [
      "[[[1 2 3 4 5 6 7 8]]]\n",
      "(1, 1, 8)\n",
      "3\n",
      "[[4]]\n"
     ]
    }
   ],
   "source": [
    "arr_1 = np.array([1,2,3,4,5,6,7,8], ndmin=3)\n",
    "print(arr_1)\n",
    "print(arr_1.shape)\n",
    "print(arr_1.ndim)\n",
    "print(arr_1[:,:,3])"
   ]
  },
  {
   "cell_type": "code",
   "execution_count": 41,
   "metadata": {},
   "outputs": [
    {
     "name": "stdout",
     "output_type": "stream",
     "text": [
      "[[[1 2]\n",
      "  [3 4]]\n",
      "\n",
      " [[5 6]\n",
      "  [7 8]]]\n"
     ]
    }
   ],
   "source": [
    "arr_2 = arr_1.reshape(2,2,2)\n",
    "print(arr_2)"
   ]
  },
  {
   "cell_type": "code",
   "execution_count": 42,
   "metadata": {},
   "outputs": [
    {
     "data": {
      "text/plain": [
       "(2, 2, 2)"
      ]
     },
     "execution_count": 42,
     "metadata": {},
     "output_type": "execute_result"
    }
   ],
   "source": [
    "arr_2.shape"
   ]
  },
  {
   "cell_type": "code",
   "execution_count": 43,
   "metadata": {},
   "outputs": [
    {
     "data": {
      "text/plain": [
       "3"
      ]
     },
     "execution_count": 43,
     "metadata": {},
     "output_type": "execute_result"
    }
   ],
   "source": [
    "arr_2.ndim"
   ]
  },
  {
   "cell_type": "code",
   "execution_count": 44,
   "metadata": {},
   "outputs": [
    {
     "name": "stdout",
     "output_type": "stream",
     "text": [
      "[[1 2]\n",
      " [3 4]\n",
      " [5 6]\n",
      " [7 8]]\n"
     ]
    }
   ],
   "source": [
    "arr_3 = arr_2.reshape(-1,2)\n",
    "print(arr_3)"
   ]
  },
  {
   "cell_type": "code",
   "execution_count": 45,
   "metadata": {},
   "outputs": [
    {
     "data": {
      "text/plain": [
       "2"
      ]
     },
     "execution_count": 45,
     "metadata": {},
     "output_type": "execute_result"
    }
   ],
   "source": [
    "arr_3.ndim"
   ]
  },
  {
   "cell_type": "code",
   "execution_count": 69,
   "metadata": {},
   "outputs": [
    {
     "name": "stdout",
     "output_type": "stream",
     "text": [
      "[ 1  2  3  4  5  6  7  8  9 10]\n"
     ]
    }
   ],
   "source": [
    "print(np.array([1,2,3,4,5,6,7,8,9,10]))"
   ]
  },
  {
   "cell_type": "code",
   "execution_count": 70,
   "metadata": {},
   "outputs": [
    {
     "data": {
      "text/plain": [
       "array([  1,   2,   3,   4,   5,   6,   7,   8,   9,  10,  11,  12,  13,\n",
       "        14,  15,  16,  17,  18,  19,  20,  21,  22,  23,  24,  25,  26,\n",
       "        27,  28,  29,  30,  31,  32,  33,  34,  35,  36,  37,  38,  39,\n",
       "        40,  41,  42,  43,  44,  45,  46,  47,  48,  49,  50,  51,  52,\n",
       "        53,  54,  55,  56,  57,  58,  59,  60,  61,  62,  63,  64,  65,\n",
       "        66,  67,  68,  69,  70,  71,  72,  73,  74,  75,  76,  77,  78,\n",
       "        79,  80,  81,  82,  83,  84,  85,  86,  87,  88,  89,  90,  91,\n",
       "        92,  93,  94,  95,  96,  97,  98,  99, 100])"
      ]
     },
     "execution_count": 70,
     "metadata": {},
     "output_type": "execute_result"
    }
   ],
   "source": [
    "ar = np.array(range(1,101))\n",
    "ar"
   ]
  },
  {
   "cell_type": "code",
   "execution_count": 72,
   "metadata": {},
   "outputs": [
    {
     "name": "stdout",
     "output_type": "stream",
     "text": [
      "[[[  1   2   3   4]\n",
      "  [  5   6   7   8]\n",
      "  [  9  10  11  12]\n",
      "  [ 13  14  15  16]\n",
      "  [ 17  18  19  20]]\n",
      "\n",
      " [[ 21  22  23  24]\n",
      "  [ 25  26  27  28]\n",
      "  [ 29  30  31  32]\n",
      "  [ 33  34  35  36]\n",
      "  [ 37  38  39  40]]\n",
      "\n",
      " [[ 41  42  43  44]\n",
      "  [ 45  46  47  48]\n",
      "  [ 49  50  51  52]\n",
      "  [ 53  54  55  56]\n",
      "  [ 57  58  59  60]]\n",
      "\n",
      " [[ 61  62  63  64]\n",
      "  [ 65  66  67  68]\n",
      "  [ 69  70  71  72]\n",
      "  [ 73  74  75  76]\n",
      "  [ 77  78  79  80]]\n",
      "\n",
      " [[ 81  82  83  84]\n",
      "  [ 85  86  87  88]\n",
      "  [ 89  90  91  92]\n",
      "  [ 93  94  95  96]\n",
      "  [ 97  98  99 100]]]\n"
     ]
    }
   ],
   "source": [
    "ar2 = ar.reshape(5,5,4)\n",
    "print(ar2)"
   ]
  },
  {
   "cell_type": "code",
   "execution_count": 73,
   "metadata": {},
   "outputs": [
    {
     "data": {
      "text/plain": [
       "1"
      ]
     },
     "execution_count": 73,
     "metadata": {},
     "output_type": "execute_result"
    }
   ],
   "source": [
    "ar.ndim"
   ]
  },
  {
   "cell_type": "code",
   "execution_count": 102,
   "metadata": {},
   "outputs": [
    {
     "name": "stdout",
     "output_type": "stream",
     "text": [
      "2\n",
      "4\n",
      "6\n",
      "8\n",
      "10\n",
      "12\n",
      "14\n",
      "16\n",
      "18\n",
      "20\n",
      "22\n",
      "24\n",
      "26\n",
      "28\n",
      "30\n",
      "32\n",
      "34\n",
      "36\n",
      "38\n",
      "40\n",
      "42\n",
      "44\n",
      "46\n",
      "48\n",
      "50\n",
      "52\n",
      "54\n",
      "56\n",
      "58\n",
      "60\n",
      "62\n",
      "64\n",
      "66\n",
      "68\n",
      "70\n",
      "72\n",
      "74\n",
      "76\n",
      "78\n",
      "80\n",
      "82\n",
      "84\n",
      "86\n",
      "88\n",
      "90\n",
      "92\n",
      "94\n",
      "96\n",
      "98\n",
      "100\n"
     ]
    }
   ],
   "source": [
    "for i in ar:\n",
    "    if i%2==0:\n",
    "        print(i)"
   ]
  },
  {
   "cell_type": "code",
   "execution_count": 103,
   "metadata": {},
   "outputs": [
    {
     "data": {
      "text/plain": [
       "array([[[  1,   2,   3,   4],\n",
       "        [  5,   6,   7,   8],\n",
       "        [  9,  10,  11,  12],\n",
       "        [ 13,  14,  15,  16],\n",
       "        [ 17,  18,  19,  20]],\n",
       "\n",
       "       [[ 21,  22,  23,  24],\n",
       "        [ 25,  26,  27,  28],\n",
       "        [ 29,  30,  31,  32],\n",
       "        [ 33,  34,  35,  36],\n",
       "        [ 37,  38,  39,  40]],\n",
       "\n",
       "       [[ 41,  42,  43,  44],\n",
       "        [ 45,  46,  47,  48],\n",
       "        [ 49,  50,  51,  52],\n",
       "        [ 53,  54,  55,  56],\n",
       "        [ 57,  58,  59,  60]],\n",
       "\n",
       "       [[ 61,  62,  63,  64],\n",
       "        [ 65,  66,  67,  68],\n",
       "        [ 69,  70,  71,  72],\n",
       "        [ 73,  74,  75,  76],\n",
       "        [ 77,  78,  79,  80]],\n",
       "\n",
       "       [[ 81,  82,  83,  84],\n",
       "        [ 85,  86,  87,  88],\n",
       "        [ 89,  90,  91,  92],\n",
       "        [ 93,  94,  95,  96],\n",
       "        [ 97,  98,  99, 100]]])"
      ]
     },
     "execution_count": 103,
     "metadata": {},
     "output_type": "execute_result"
    }
   ],
   "source": [
    "ar2"
   ]
  },
  {
   "cell_type": "code",
   "execution_count": 104,
   "metadata": {},
   "outputs": [],
   "source": [
    "# Picking even numbers from 3d array ar2"
   ]
  },
  {
   "cell_type": "code",
   "execution_count": 105,
   "metadata": {},
   "outputs": [
    {
     "data": {
      "text/plain": [
       "array([[[  2,   4],\n",
       "        [  6,   8],\n",
       "        [ 10,  12],\n",
       "        [ 14,  16],\n",
       "        [ 18,  20]],\n",
       "\n",
       "       [[ 22,  24],\n",
       "        [ 26,  28],\n",
       "        [ 30,  32],\n",
       "        [ 34,  36],\n",
       "        [ 38,  40]],\n",
       "\n",
       "       [[ 42,  44],\n",
       "        [ 46,  48],\n",
       "        [ 50,  52],\n",
       "        [ 54,  56],\n",
       "        [ 58,  60]],\n",
       "\n",
       "       [[ 62,  64],\n",
       "        [ 66,  68],\n",
       "        [ 70,  72],\n",
       "        [ 74,  76],\n",
       "        [ 78,  80]],\n",
       "\n",
       "       [[ 82,  84],\n",
       "        [ 86,  88],\n",
       "        [ 90,  92],\n",
       "        [ 94,  96],\n",
       "        [ 98, 100]]])"
      ]
     },
     "execution_count": 105,
     "metadata": {},
     "output_type": "execute_result"
    }
   ],
   "source": [
    "ar2[0:, 0:, 1:100:2]"
   ]
  },
  {
   "cell_type": "code",
   "execution_count": 106,
   "metadata": {},
   "outputs": [],
   "source": [
    "# Picking odd numbers from 3d array ar2"
   ]
  },
  {
   "cell_type": "code",
   "execution_count": 107,
   "metadata": {},
   "outputs": [
    {
     "data": {
      "text/plain": [
       "array([[[ 1,  3],\n",
       "        [ 5,  7],\n",
       "        [ 9, 11],\n",
       "        [13, 15],\n",
       "        [17, 19]],\n",
       "\n",
       "       [[21, 23],\n",
       "        [25, 27],\n",
       "        [29, 31],\n",
       "        [33, 35],\n",
       "        [37, 39]],\n",
       "\n",
       "       [[41, 43],\n",
       "        [45, 47],\n",
       "        [49, 51],\n",
       "        [53, 55],\n",
       "        [57, 59]],\n",
       "\n",
       "       [[61, 63],\n",
       "        [65, 67],\n",
       "        [69, 71],\n",
       "        [73, 75],\n",
       "        [77, 79]],\n",
       "\n",
       "       [[81, 83],\n",
       "        [85, 87],\n",
       "        [89, 91],\n",
       "        [93, 95],\n",
       "        [97, 99]]])"
      ]
     },
     "execution_count": 107,
     "metadata": {},
     "output_type": "execute_result"
    }
   ],
   "source": [
    "ar2[0:, 0:, 0:100:2]"
   ]
  },
  {
   "cell_type": "code",
   "execution_count": 108,
   "metadata": {},
   "outputs": [
    {
     "name": "stdout",
     "output_type": "stream",
     "text": [
      "[[ 1  2  3  4]\n",
      " [ 5  6  7  8]\n",
      " [ 9 10 11 12]\n",
      " [13 14 15 16]\n",
      " [17 18 19 20]]\n",
      "[[21 22 23 24]\n",
      " [25 26 27 28]\n",
      " [29 30 31 32]\n",
      " [33 34 35 36]\n",
      " [37 38 39 40]]\n",
      "[[41 42 43 44]\n",
      " [45 46 47 48]\n",
      " [49 50 51 52]\n",
      " [53 54 55 56]\n",
      " [57 58 59 60]]\n",
      "[[61 62 63 64]\n",
      " [65 66 67 68]\n",
      " [69 70 71 72]\n",
      " [73 74 75 76]\n",
      " [77 78 79 80]]\n",
      "[[ 81  82  83  84]\n",
      " [ 85  86  87  88]\n",
      " [ 89  90  91  92]\n",
      " [ 93  94  95  96]\n",
      " [ 97  98  99 100]]\n"
     ]
    }
   ],
   "source": [
    "for x in ar2:\n",
    "    print(x)"
   ]
  },
  {
   "cell_type": "code",
   "execution_count": 114,
   "metadata": {},
   "outputs": [
    {
     "name": "stdout",
     "output_type": "stream",
     "text": [
      "1\n",
      "2\n",
      "3\n",
      "4\n",
      "5\n",
      "6\n",
      "7\n",
      "8\n",
      "9\n",
      "10\n",
      "11\n",
      "12\n",
      "13\n",
      "14\n",
      "15\n",
      "16\n",
      "17\n",
      "18\n",
      "19\n",
      "20\n",
      "21\n",
      "22\n",
      "23\n",
      "24\n",
      "25\n",
      "26\n",
      "27\n",
      "28\n",
      "29\n",
      "30\n",
      "31\n",
      "32\n",
      "33\n",
      "34\n",
      "35\n",
      "36\n",
      "37\n",
      "38\n",
      "39\n",
      "40\n",
      "41\n",
      "42\n",
      "43\n",
      "44\n",
      "45\n",
      "46\n",
      "47\n",
      "48\n",
      "49\n",
      "50\n",
      "51\n",
      "52\n",
      "53\n",
      "54\n",
      "55\n",
      "56\n",
      "57\n",
      "58\n",
      "59\n",
      "60\n",
      "61\n",
      "62\n",
      "63\n",
      "64\n",
      "65\n",
      "66\n",
      "67\n",
      "68\n",
      "69\n",
      "70\n",
      "71\n",
      "72\n",
      "73\n",
      "74\n",
      "75\n",
      "76\n",
      "77\n",
      "78\n",
      "79\n",
      "80\n",
      "81\n",
      "82\n",
      "83\n",
      "84\n",
      "85\n",
      "86\n",
      "87\n",
      "88\n",
      "89\n",
      "90\n",
      "91\n",
      "92\n",
      "93\n",
      "94\n",
      "95\n",
      "96\n",
      "97\n",
      "98\n",
      "99\n",
      "100\n"
     ]
    }
   ],
   "source": [
    "for x in ar2:\n",
    "    for y in x:\n",
    "        for z in y:\n",
    "            print(z)"
   ]
  },
  {
   "cell_type": "code",
   "execution_count": 115,
   "metadata": {},
   "outputs": [
    {
     "name": "stdout",
     "output_type": "stream",
     "text": [
      "1\n",
      "2\n",
      "3\n",
      "4\n",
      "5\n",
      "6\n",
      "7\n",
      "8\n",
      "9\n",
      "10\n",
      "11\n",
      "12\n",
      "13\n",
      "14\n",
      "15\n",
      "16\n",
      "17\n",
      "18\n",
      "19\n",
      "20\n",
      "21\n",
      "22\n",
      "23\n",
      "24\n",
      "25\n",
      "26\n",
      "27\n",
      "28\n",
      "29\n",
      "30\n",
      "31\n",
      "32\n",
      "33\n",
      "34\n",
      "35\n",
      "36\n",
      "37\n",
      "38\n",
      "39\n",
      "40\n",
      "41\n",
      "42\n",
      "43\n",
      "44\n",
      "45\n",
      "46\n",
      "47\n",
      "48\n",
      "49\n",
      "50\n",
      "51\n",
      "52\n",
      "53\n",
      "54\n",
      "55\n",
      "56\n",
      "57\n",
      "58\n",
      "59\n",
      "60\n",
      "61\n",
      "62\n",
      "63\n",
      "64\n",
      "65\n",
      "66\n",
      "67\n",
      "68\n",
      "69\n",
      "70\n",
      "71\n",
      "72\n",
      "73\n",
      "74\n",
      "75\n",
      "76\n",
      "77\n",
      "78\n",
      "79\n",
      "80\n",
      "81\n",
      "82\n",
      "83\n",
      "84\n",
      "85\n",
      "86\n",
      "87\n",
      "88\n",
      "89\n",
      "90\n",
      "91\n",
      "92\n",
      "93\n",
      "94\n",
      "95\n",
      "96\n",
      "97\n",
      "98\n",
      "99\n",
      "100\n"
     ]
    }
   ],
   "source": [
    "for x in np.nditer(ar2):\n",
    "    print(x)"
   ]
  },
  {
   "cell_type": "code",
   "execution_count": 117,
   "metadata": {},
   "outputs": [
    {
     "data": {
      "text/plain": [
       "array([  1,   2,   3,   4,   5,   6,   7,   8,   9,  10,  11,  12,  13,\n",
       "        14,  15,  16,  17,  18,  19,  20,  21,  22,  23,  24,  25,  26,\n",
       "        27,  28,  29,  30,  31,  32,  33,  34,  35,  36,  37,  38,  39,\n",
       "        40,  41,  42,  43,  44,  45,  46,  47,  48,  49,  50,  51,  52,\n",
       "        53,  54,  55,  56,  57,  58,  59,  60,  61,  62,  63,  64,  65,\n",
       "        66,  67,  68,  69,  70,  71,  72,  73,  74,  75,  76,  77,  78,\n",
       "        79,  80,  81,  82,  83,  84,  85,  86,  87,  88,  89,  90,  91,\n",
       "        92,  93,  94,  95,  96,  97,  98,  99, 100])"
      ]
     },
     "execution_count": 117,
     "metadata": {},
     "output_type": "execute_result"
    }
   ],
   "source": [
    "aray = np.array(range(1,101))\n",
    "aray"
   ]
  },
  {
   "cell_type": "code",
   "execution_count": 120,
   "metadata": {},
   "outputs": [
    {
     "name": "stdout",
     "output_type": "stream",
     "text": [
      "1\n",
      "2\n",
      "3\n",
      "4\n",
      "5\n",
      "6\n",
      "7\n",
      "8\n",
      "9\n",
      "10\n",
      "11\n",
      "12\n",
      "13\n",
      "14\n",
      "15\n",
      "16\n",
      "17\n",
      "18\n",
      "19\n",
      "20\n",
      "21\n",
      "22\n",
      "23\n",
      "24\n",
      "25\n",
      "26\n",
      "27\n",
      "28\n",
      "29\n",
      "30\n",
      "31\n",
      "32\n",
      "33\n",
      "34\n",
      "35\n",
      "36\n",
      "37\n",
      "38\n",
      "39\n",
      "40\n",
      "41\n",
      "42\n",
      "43\n",
      "44\n",
      "45\n",
      "46\n",
      "47\n",
      "48\n",
      "49\n",
      "50\n",
      "51\n",
      "52\n",
      "53\n",
      "54\n",
      "55\n",
      "56\n",
      "57\n",
      "58\n",
      "59\n",
      "60\n",
      "61\n",
      "62\n",
      "63\n",
      "64\n",
      "65\n",
      "66\n",
      "67\n",
      "68\n",
      "69\n",
      "70\n",
      "71\n",
      "72\n",
      "73\n",
      "74\n",
      "75\n",
      "76\n",
      "77\n",
      "78\n",
      "79\n",
      "80\n",
      "81\n",
      "82\n",
      "83\n",
      "84\n",
      "85\n",
      "86\n",
      "87\n",
      "88\n",
      "89\n",
      "90\n",
      "91\n",
      "92\n",
      "93\n",
      "94\n",
      "95\n",
      "96\n",
      "97\n",
      "98\n",
      "99\n",
      "100\n"
     ]
    }
   ],
   "source": [
    "for i in np.nditer(aray):\n",
    "    print(i)"
   ]
  },
  {
   "cell_type": "code",
   "execution_count": 130,
   "metadata": {},
   "outputs": [
    {
     "name": "stdout",
     "output_type": "stream",
     "text": [
      "1\n",
      "3\n",
      "5\n",
      "7\n",
      "9\n",
      "11\n",
      "13\n",
      "15\n",
      "17\n",
      "19\n",
      "21\n",
      "23\n",
      "25\n",
      "27\n",
      "29\n",
      "31\n",
      "33\n",
      "35\n",
      "37\n",
      "39\n",
      "41\n",
      "43\n",
      "45\n",
      "47\n",
      "49\n",
      "51\n",
      "53\n",
      "55\n",
      "57\n",
      "59\n",
      "61\n",
      "63\n",
      "65\n",
      "67\n",
      "69\n",
      "71\n",
      "73\n",
      "75\n",
      "77\n",
      "79\n",
      "81\n",
      "83\n",
      "85\n",
      "87\n",
      "89\n",
      "91\n",
      "93\n",
      "95\n",
      "97\n",
      "99\n"
     ]
    }
   ],
   "source": [
    "for i in np.nditer(aray[::2]):\n",
    "    print(i)"
   ]
  },
  {
   "cell_type": "code",
   "execution_count": 132,
   "metadata": {},
   "outputs": [
    {
     "name": "stdout",
     "output_type": "stream",
     "text": [
      "(0, 0, 0) 1\n",
      "(0, 0, 1) 2\n",
      "(0, 0, 2) 3\n",
      "(0, 0, 3) 4\n",
      "(0, 1, 0) 5\n",
      "(0, 1, 1) 6\n",
      "(0, 1, 2) 7\n",
      "(0, 1, 3) 8\n",
      "(0, 2, 0) 9\n",
      "(0, 2, 1) 10\n",
      "(0, 2, 2) 11\n",
      "(0, 2, 3) 12\n",
      "(0, 3, 0) 13\n",
      "(0, 3, 1) 14\n",
      "(0, 3, 2) 15\n",
      "(0, 3, 3) 16\n",
      "(0, 4, 0) 17\n",
      "(0, 4, 1) 18\n",
      "(0, 4, 2) 19\n",
      "(0, 4, 3) 20\n",
      "(1, 0, 0) 21\n",
      "(1, 0, 1) 22\n",
      "(1, 0, 2) 23\n",
      "(1, 0, 3) 24\n",
      "(1, 1, 0) 25\n",
      "(1, 1, 1) 26\n",
      "(1, 1, 2) 27\n",
      "(1, 1, 3) 28\n",
      "(1, 2, 0) 29\n",
      "(1, 2, 1) 30\n",
      "(1, 2, 2) 31\n",
      "(1, 2, 3) 32\n",
      "(1, 3, 0) 33\n",
      "(1, 3, 1) 34\n",
      "(1, 3, 2) 35\n",
      "(1, 3, 3) 36\n",
      "(1, 4, 0) 37\n",
      "(1, 4, 1) 38\n",
      "(1, 4, 2) 39\n",
      "(1, 4, 3) 40\n",
      "(2, 0, 0) 41\n",
      "(2, 0, 1) 42\n",
      "(2, 0, 2) 43\n",
      "(2, 0, 3) 44\n",
      "(2, 1, 0) 45\n",
      "(2, 1, 1) 46\n",
      "(2, 1, 2) 47\n",
      "(2, 1, 3) 48\n",
      "(2, 2, 0) 49\n",
      "(2, 2, 1) 50\n",
      "(2, 2, 2) 51\n",
      "(2, 2, 3) 52\n",
      "(2, 3, 0) 53\n",
      "(2, 3, 1) 54\n",
      "(2, 3, 2) 55\n",
      "(2, 3, 3) 56\n",
      "(2, 4, 0) 57\n",
      "(2, 4, 1) 58\n",
      "(2, 4, 2) 59\n",
      "(2, 4, 3) 60\n",
      "(3, 0, 0) 61\n",
      "(3, 0, 1) 62\n",
      "(3, 0, 2) 63\n",
      "(3, 0, 3) 64\n",
      "(3, 1, 0) 65\n",
      "(3, 1, 1) 66\n",
      "(3, 1, 2) 67\n",
      "(3, 1, 3) 68\n",
      "(3, 2, 0) 69\n",
      "(3, 2, 1) 70\n",
      "(3, 2, 2) 71\n",
      "(3, 2, 3) 72\n",
      "(3, 3, 0) 73\n",
      "(3, 3, 1) 74\n",
      "(3, 3, 2) 75\n",
      "(3, 3, 3) 76\n",
      "(3, 4, 0) 77\n",
      "(3, 4, 1) 78\n",
      "(3, 4, 2) 79\n",
      "(3, 4, 3) 80\n",
      "(4, 0, 0) 81\n",
      "(4, 0, 1) 82\n",
      "(4, 0, 2) 83\n",
      "(4, 0, 3) 84\n",
      "(4, 1, 0) 85\n",
      "(4, 1, 1) 86\n",
      "(4, 1, 2) 87\n",
      "(4, 1, 3) 88\n",
      "(4, 2, 0) 89\n",
      "(4, 2, 1) 90\n",
      "(4, 2, 2) 91\n",
      "(4, 2, 3) 92\n",
      "(4, 3, 0) 93\n",
      "(4, 3, 1) 94\n",
      "(4, 3, 2) 95\n",
      "(4, 3, 3) 96\n",
      "(4, 4, 0) 97\n",
      "(4, 4, 1) 98\n",
      "(4, 4, 2) 99\n",
      "(4, 4, 3) 100\n"
     ]
    }
   ],
   "source": [
    "for id,x in np.ndenumerate(ar2):\n",
    "    print(id,x)"
   ]
  },
  {
   "cell_type": "code",
   "execution_count": 135,
   "metadata": {},
   "outputs": [
    {
     "data": {
      "text/plain": [
       "array([[[  1,   2,   3,   4,   5,   6,   7,   8,   9,  10,  11,  12,\n",
       "          13,  14,  15,  16,  17,  18,  19,  20,  21,  22,  23,  24,\n",
       "          25,  26,  27,  28,  29,  30,  31,  32,  33,  34,  35,  36,\n",
       "          37,  38,  39,  40,  41,  42,  43,  44,  45,  46,  47,  48,\n",
       "          49,  50,  51,  52,  53,  54,  55,  56,  57,  58,  59,  60,\n",
       "          61,  62,  63,  64,  65,  66,  67,  68,  69,  70,  71,  72,\n",
       "          73,  74,  75,  76,  77,  78,  79,  80,  81,  82,  83,  84,\n",
       "          85,  86,  87,  88,  89,  90,  91,  92,  93,  94,  95,  96,\n",
       "          97,  98,  99, 100]]])"
      ]
     },
     "execution_count": 135,
     "metadata": {},
     "output_type": "execute_result"
    }
   ],
   "source": [
    "ar3 = np.array(range(1,101), ndmin=3)\n",
    "ar3"
   ]
  },
  {
   "cell_type": "code",
   "execution_count": 151,
   "metadata": {},
   "outputs": [
    {
     "name": "stdout",
     "output_type": "stream",
     "text": [
      "(0, 0, 0) 1\n",
      "(0, 0, 1) 2\n",
      "(0, 0, 2) 3\n",
      "(0, 0, 3) 4\n",
      "(0, 0, 4) 5\n",
      "(0, 0, 5) 6\n",
      "(0, 0, 6) 7\n",
      "(0, 0, 7) 8\n",
      "(0, 0, 8) 9\n",
      "(0, 0, 9) 10\n",
      "(0, 0, 10) 11\n",
      "(0, 0, 11) 12\n",
      "(0, 0, 12) 13\n",
      "(0, 0, 13) 14\n",
      "(0, 0, 14) 15\n",
      "(0, 0, 15) 16\n",
      "(0, 0, 16) 17\n",
      "(0, 0, 17) 18\n",
      "(0, 0, 18) 19\n",
      "(0, 0, 19) 20\n",
      "(0, 0, 20) 21\n",
      "(0, 0, 21) 22\n",
      "(0, 0, 22) 23\n",
      "(0, 0, 23) 24\n",
      "(0, 0, 24) 25\n",
      "(0, 0, 25) 26\n",
      "(0, 0, 26) 27\n",
      "(0, 0, 27) 28\n",
      "(0, 0, 28) 29\n",
      "(0, 0, 29) 30\n",
      "(0, 0, 30) 31\n",
      "(0, 0, 31) 32\n",
      "(0, 0, 32) 33\n",
      "(0, 0, 33) 34\n",
      "(0, 0, 34) 35\n",
      "(0, 0, 35) 36\n",
      "(0, 0, 36) 37\n",
      "(0, 0, 37) 38\n",
      "(0, 0, 38) 39\n",
      "(0, 0, 39) 40\n",
      "(0, 0, 40) 41\n",
      "(0, 0, 41) 42\n",
      "(0, 0, 42) 43\n",
      "(0, 0, 43) 44\n",
      "(0, 0, 44) 45\n",
      "(0, 0, 45) 46\n",
      "(0, 0, 46) 47\n",
      "(0, 0, 47) 48\n",
      "(0, 0, 48) 49\n",
      "(0, 0, 49) 50\n",
      "(0, 0, 50) 51\n",
      "(0, 0, 51) 52\n",
      "(0, 0, 52) 53\n",
      "(0, 0, 53) 54\n",
      "(0, 0, 54) 55\n",
      "(0, 0, 55) 56\n",
      "(0, 0, 56) 57\n",
      "(0, 0, 57) 58\n",
      "(0, 0, 58) 59\n",
      "(0, 0, 59) 60\n",
      "(0, 0, 60) 61\n",
      "(0, 0, 61) 62\n",
      "(0, 0, 62) 63\n",
      "(0, 0, 63) 64\n",
      "(0, 0, 64) 65\n",
      "(0, 0, 65) 66\n",
      "(0, 0, 66) 67\n",
      "(0, 0, 67) 68\n",
      "(0, 0, 68) 69\n",
      "(0, 0, 69) 70\n",
      "(0, 0, 70) 71\n",
      "(0, 0, 71) 72\n",
      "(0, 0, 72) 73\n",
      "(0, 0, 73) 74\n",
      "(0, 0, 74) 75\n",
      "(0, 0, 75) 76\n",
      "(0, 0, 76) 77\n",
      "(0, 0, 77) 78\n",
      "(0, 0, 78) 79\n",
      "(0, 0, 79) 80\n",
      "(0, 0, 80) 81\n",
      "(0, 0, 81) 82\n",
      "(0, 0, 82) 83\n",
      "(0, 0, 83) 84\n",
      "(0, 0, 84) 85\n",
      "(0, 0, 85) 86\n",
      "(0, 0, 86) 87\n",
      "(0, 0, 87) 88\n",
      "(0, 0, 88) 89\n",
      "(0, 0, 89) 90\n",
      "(0, 0, 90) 91\n",
      "(0, 0, 91) 92\n",
      "(0, 0, 92) 93\n",
      "(0, 0, 93) 94\n",
      "(0, 0, 94) 95\n",
      "(0, 0, 95) 96\n",
      "(0, 0, 96) 97\n",
      "(0, 0, 97) 98\n",
      "(0, 0, 98) 99\n",
      "(0, 0, 99) 100\n"
     ]
    }
   ],
   "source": [
    "for id,x in np.ndenumerate(ar3):\n",
    "    print(id,x)"
   ]
  },
  {
   "cell_type": "code",
   "execution_count": 152,
   "metadata": {},
   "outputs": [
    {
     "name": "stdout",
     "output_type": "stream",
     "text": [
      "[1 2 3 4 2 3 4 5]\n"
     ]
    }
   ],
   "source": [
    "# Single dimension\n",
    "a = np.array([1,2,3,4])\n",
    "b = np.array([2,3,4,5])\n",
    "con = np.concatenate((a,b))\n",
    "print(con)"
   ]
  },
  {
   "cell_type": "code",
   "execution_count": 164,
   "metadata": {},
   "outputs": [
    {
     "name": "stdout",
     "output_type": "stream",
     "text": [
      "[1 2 3 4 2 3 4 5]\n"
     ]
    }
   ],
   "source": [
    "# Two dimension\n",
    "c = np.array([[1,2],[3,4]])\n",
    "\n",
    "d = np.array([[2,3],[4,5]])\n",
    "\n",
    "con2 = np.concatenate((a,b))\n",
    "\n",
    "print(con2)"
   ]
  },
  {
   "cell_type": "code",
   "execution_count": 160,
   "metadata": {},
   "outputs": [
    {
     "name": "stdout",
     "output_type": "stream",
     "text": [
      "[[[1 2]\n",
      "  [3 4]]\n",
      "\n",
      " [[2 3]\n",
      "  [4 5]]]\n"
     ]
    }
   ],
   "source": [
    "i = np.stack((c,d))\n",
    "print(i)"
   ]
  },
  {
   "cell_type": "code",
   "execution_count": 161,
   "metadata": {},
   "outputs": [
    {
     "name": "stdout",
     "output_type": "stream",
     "text": [
      "[[1 2 2 3]\n",
      " [3 4 4 5]]\n"
     ]
    }
   ],
   "source": [
    "j = np.hstack((c,d))\n",
    "print(j)"
   ]
  },
  {
   "cell_type": "code",
   "execution_count": 171,
   "metadata": {},
   "outputs": [
    {
     "name": "stdout",
     "output_type": "stream",
     "text": [
      "[[0 1 2 3 4 5 6 7]]\n"
     ]
    }
   ],
   "source": [
    "k = np.array([range(8)])\n",
    "print(k)"
   ]
  },
  {
   "cell_type": "code",
   "execution_count": null,
   "metadata": {},
   "outputs": [],
   "source": []
  }
 ],
 "metadata": {
  "kernelspec": {
   "display_name": "Python 3",
   "language": "python",
   "name": "python3"
  },
  "language_info": {
   "codemirror_mode": {
    "name": "ipython",
    "version": 3
   },
   "file_extension": ".py",
   "mimetype": "text/x-python",
   "name": "python",
   "nbconvert_exporter": "python",
   "pygments_lexer": "ipython3",
   "version": "3.8.5"
  }
 },
 "nbformat": 4,
 "nbformat_minor": 4
}
